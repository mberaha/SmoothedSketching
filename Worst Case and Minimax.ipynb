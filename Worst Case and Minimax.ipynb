{
 "cells": [
  {
   "cell_type": "code",
   "execution_count": 1,
   "id": "37b857d6",
   "metadata": {},
   "outputs": [],
   "source": [
    "import matplotlib.pyplot as plt\n",
    "\n",
    "import pyomo.environ as pyo\n",
    "from pyomo.environ import value\n",
    "\n",
    "import numpy as np"
   ]
  },
  {
   "cell_type": "markdown",
   "id": "8cac765e",
   "metadata": {},
   "source": [
    "# Minimax Estimation"
   ]
  },
  {
   "cell_type": "markdown",
   "id": "383dcac4",
   "metadata": {},
   "source": [
    "## Hacks\n",
    "\n",
    "We set $\\mathbb S = [1, \\ldots 1000]$ and $J=10$, $\\mathbb S_1 = [1:100]$, $\\mathbb S_2 = [101:200]$ and so on."
   ]
  },
  {
   "cell_type": "code",
   "execution_count": null,
   "id": "05d73311",
   "metadata": {},
   "outputs": [],
   "source": [
    "def sum_power(x, n, k=2):\n",
    "    return sum(x[i] ** k for i in range(n))\n",
    "\n",
    "def get_p_in_bucket(m, j):\n",
    "    return m.__getattribute__(\"p_in_bucket{0}\".format(j))\n",
    "\n",
    "def get_pis(m):\n",
    "    return [sum([get_p_in_bucket(m, j)[i] for i in range(K)]) for j in range(J)]\n",
    "    #return [pyo.summation(get_p_in_bucket(m, j)) for j in range(J)]\n",
    "\n",
    "def sum_ps(m, k):\n",
    "    tmp = 0\n",
    "    for j in range(J):\n",
    "        aux = get_p_in_bucket(m, j)\n",
    "        tmp += sum(aux[i] ** k for i in range(K))\n",
    "    return tmp\n",
    "\n",
    "def weighted_sum_ps(m, pis, k):\n",
    "    tmp = 0\n",
    "    for j in range(J):\n",
    "        aux = get_p_in_bucket(m, j)\n",
    "        tmp += pis[j] * sum(aux[i] ** k for i in range(K))\n",
    "    return tmp\n",
    "        \n",
    "\n",
    "def risk_fn(m):\n",
    "    beta = m.beta[0]\n",
    "    out = 0\n",
    "    pis = get_pis(m)\n",
    "    out = beta * beta * (\n",
    "        n * sum_power(pis, J, 2) + n * (n-1) * sum_power(pis, J, 3))\n",
    "    out -= 2 * beta * (\n",
    "        n * sum_ps(m, 2) + n * (n-1) * weighted_sum_ps(m, pis, 2))\n",
    "    out += n * sum_ps(m, 2) + n * (n-1) * sum_ps(m, 3)\n",
    "    return out\n",
    "\n",
    "\n",
    "def risk_fn_debug(p, beta):\n",
    "    def wsum_p(pis, p):\n",
    "        out = 0\n",
    "        for j in range(J):\n",
    "            out += pis[j] * np.sum(p[j * K : (j+1) * K] ** 2)\n",
    "        return out\n",
    "    \n",
    "    pis = np.array([\n",
    "        np.sum(p[j * K : (j+1) * K]) for j in range(J)])\n",
    "    print(\"pis: \", pis)\n",
    "    \n",
    "    out = beta * beta * (\n",
    "        n * sum_power(pis, J, 2) + n * (n-1) * sum_power(pis, J, 3))\n",
    "    out -= 2 * beta * (\n",
    "        n * np.sum(p ** 2) + n * (n-1) * wsum_p(pis, p))\n",
    "    out += n * np.sum(p ** 2) + n * (n-1) * np.sum(p ** 3)\n",
    "    return out"
   ]
  },
  {
   "cell_type": "code",
   "execution_count": null,
   "id": "799eac5c",
   "metadata": {},
   "outputs": [],
   "source": [
    "def inner_opt(m):\n",
    "    return m.z[0]\n",
    "\n",
    "\n",
    "def stupid_initialize(args):\n",
    "    out = np.zeros(K) + 1e-4\n",
    "    out[0] = 1 / J\n",
    "    return out\n",
    "\n",
    "\n",
    "def fit(K, J, n):\n",
    "    \n",
    "    model = pyo.ConcreteModel()\n",
    "    init_val = np.random.uniform(size=K)\n",
    "    init_val = init_val / np.sum(init_val)\n",
    "    init_val /= J\n",
    "\n",
    "    for j in range(J):\n",
    "        model.add_component(\n",
    "            \"p_in_bucket{0}\".format(j), \n",
    "            pyo.Var(np.arange(K), domain=pyo.NonNegativeReals,\n",
    "                initialize=init_val.copy()))\n",
    "\n",
    "    model.beta = pyo.Var(np.arange(1), domain=pyo.Reals, initialize=np.random.uniform())\n",
    "    model.z = pyo.Var(np.arange(1), domain=pyo.Reals, initialize=np.ones(1) * 1e6)\n",
    "\n",
    "    model.obj = pyo.Objective(rule=inner_opt)\n",
    "    model.costr = pyo.ConstraintList()\n",
    "\n",
    "    tmp = 0\n",
    "    for j in range(J):\n",
    "        for i in range(K):\n",
    "            tmp += model.__getattribute__(\"p_in_bucket{0}\".format(j))[i]\n",
    "\n",
    "    # sum to 1 constraint\n",
    "    model.costr.add(tmp == 1.0)\n",
    "\n",
    "    # minimax trick\n",
    "    model.costr.add(model.z[0] >= risk_fn(model))\n",
    "    \n",
    "    solver = pyo.SolverFactory(\"multistart\")\n",
    "    out = solver.solve(model, suppress_unbounded_warning=True)\n",
    "    \n",
    "    if out[\"Solver\"][0][\"Status\"] != \"ok\":\n",
    "        return 0, np.zeros(K * J)\n",
    "    \n",
    "    beta = model.beta.extract_values()[0]\n",
    "    ps = np.zeros(K * J)\n",
    "    for j in range(J):\n",
    "        for i in range(K):\n",
    "            ps[K * j + i] = pyo.value(model.__getattribute__(\"p_in_bucket{0}\".format(j))[i])\n",
    "    return beta, ps"
   ]
  },
  {
   "cell_type": "code",
   "execution_count": null,
   "id": "83870503",
   "metadata": {},
   "outputs": [],
   "source": [
    "n = 1000.0\n",
    "Ks = [10, 25, 50, 100]\n",
    "Js = [10, 25, 50]\n",
    "\n",
    "dist_from_unif = []\n",
    "betas = []\n",
    "\n",
    "for J in Js:\n",
    "    curr_dists = []\n",
    "    curr_betas = []\n",
    "    for K in Ks:\n",
    "        ntry = 0\n",
    "        sumP = 0\n",
    "        \n",
    "        while ntry < 100 and np.abs(sumP - 1) > 0.1:\n",
    "            try:\n",
    "                beta, ps = fit(K, J, n)\n",
    "                sumP = np.sum(ps)\n",
    "                print(\"J: {0}, K: {1}, sumP: {2}, ntry: {3}\".format(J, K, np.sum(sumP), ntry))\n",
    "                ntry +=1\n",
    "            except Exception as e:\n",
    "                ntry +=1\n",
    "        \n",
    "        curr_betas.append(beta)\n",
    "        \n",
    "        p_unif = np.ones(K * J)\n",
    "        p_unif /= np.sum(p_unif)\n",
    "        curr_dists.append(np.sum(np.abs(ps - p_unif)))\n",
    "    \n",
    "    betas.append(curr_betas)\n",
    "    dist_from_unif.append(curr_dists)"
   ]
  },
  {
   "cell_type": "code",
   "execution_count": null,
   "id": "70c2087e",
   "metadata": {},
   "outputs": [],
   "source": [
    "fig, axes = plt.subplots(nrows=1, ncols=len(Js), figsize=(12, 3))\n",
    "\n",
    "krange = np.linspace(Ks[0], Ks[-1], 100)\n",
    "\n",
    "for i, ax in enumerate(axes):\n",
    "    ax.plot(krange, 1.0 / krange, color=\"red\")\n",
    "    ax.set_title(\"J: {0}\".format(Js[i]), fontsize=18)\n",
    "    ax.scatter(Ks, betas[i])"
   ]
  },
  {
   "cell_type": "code",
   "execution_count": null,
   "id": "9b8d0b88",
   "metadata": {},
   "outputs": [],
   "source": [
    "fig, axes = plt.subplots(nrows=1, ncols=len(Js), figsize=(12, 3))\n",
    "\n",
    "for i, ax in enumerate(axes):\n",
    "    ax.set_title(\"J: {0}\".format(Js[i]), fontsize=18)\n",
    "    ax.scatter(Ks, dist_from_unif[i])\n",
    "    Ks = np.array(Ks)\n",
    "    ax.plot(Ks, np.zeros(len(Ks)), color=\"red\")\n",
    "    ax.set_ylim(-1e-6, 1e-6)"
   ]
  },
  {
   "cell_type": "markdown",
   "id": "c5b23054",
   "metadata": {},
   "source": [
    "# Worst Distribution for Fixed Beta"
   ]
  },
  {
   "cell_type": "code",
   "execution_count": null,
   "id": "a202eabf",
   "metadata": {},
   "outputs": [],
   "source": [
    "def inner_opt(m):\n",
    "    return - risk_fn(m)\n",
    "\n",
    "\n",
    "model = pyo.ConcreteModel()\n",
    "\n",
    "for j in range(J):\n",
    "    init_val = np.zeros(K)\n",
    "    \n",
    "    if j == 0:\n",
    "        init_val[0] = 1.0\n",
    "        \n",
    "    model.add_component(\n",
    "        \"p_in_bucket{0}\".format(j), \n",
    "        pyo.Var(np.arange(K), domain=pyo.NonNegativeReals,\n",
    "            initialize=init_val.copy()))\n",
    "\n",
    "model.beta = pyo.Var(np.arange(1), domain=pyo.Reals, initialize=0.5)\n",
    "model.z = pyo.Var(np.arange(1), domain=pyo.Reals, initialize=np.ones(1) * 1e3)\n",
    "\n",
    "model.obj = pyo.Objective(rule=inner_opt)\n",
    "model.costr = pyo.ConstraintList()\n",
    "\n",
    "tmp = 0\n",
    "for j in range(J):\n",
    "    for i in range(K):\n",
    "        tmp += model.__getattribute__(\"p_in_bucket{0}\".format(j))[i]\n",
    "\n",
    "# sum to 1 constraint\n",
    "model.costr.add(tmp == 1.0)"
   ]
  },
  {
   "cell_type": "code",
   "execution_count": null,
   "id": "ecef333f",
   "metadata": {},
   "outputs": [],
   "source": [
    "value(inner_opt(model))"
   ]
  },
  {
   "cell_type": "code",
   "execution_count": null,
   "id": "4b8a62d1",
   "metadata": {},
   "outputs": [],
   "source": [
    "model.beta.fix(0.1)\n",
    "solver = pyo.SolverFactory(\"ipopt\")\n",
    "out = solver.solve(model)\n",
    "print(out)"
   ]
  },
  {
   "cell_type": "code",
   "execution_count": null,
   "id": "e4af077e",
   "metadata": {},
   "outputs": [],
   "source": [
    "value(inner_opt(model))"
   ]
  },
  {
   "cell_type": "markdown",
   "id": "6d0641fe",
   "metadata": {},
   "source": [
    "# Upper Bound"
   ]
  },
  {
   "cell_type": "code",
   "execution_count": null,
   "id": "8e965f86",
   "metadata": {},
   "outputs": [],
   "source": [
    "beta = 0.5\n",
    "\n",
    "def upper_bound(model):\n",
    "    return beta ** 2 * n * model.A[0] + n * (n-1) * (beta**2 - 2 * beta / K) * model.B[0] + \\\n",
    "        n * model.C[0] + n * (n - 1) * model.D[0]\n",
    "\n",
    "model = pyo.ConcreteModel()\n",
    "\n",
    "model.A = pyo.Var(np.arange(1), domain=pyo.NonNegativeReals, initialize=0.5)\n",
    "model.B = pyo.Var(np.arange(1), domain=pyo.NonNegativeReals, initialize=0.5)\n",
    "model.C = pyo.Var(np.arange(1), domain=pyo.NonNegativeReals, initialize=0.5)\n",
    "model.D = pyo.Var(np.arange(1), domain=pyo.NonNegativeReals, initialize=0.5)\n",
    "\n",
    "model.obj = pyo.Objective(rule=upper_bound, sense=pyo.maximize)\n",
    "model.costr = pyo.ConstraintList()\n",
    "\n",
    "model.costr.add(model.A[0] >= model.B[0])\n",
    "model.costr.add(model.C[0] >= model.D[0])\n",
    "model.costr.add(model.A[0] >= model.C[0])\n",
    "model.costr.add(model.B[0] >= model.D[0])\n",
    "model.costr.add(model.A[0] <= 1)\n",
    "model.costr.add(model.B[0] <= 1)\n",
    "model.costr.add(model.C[0] <= 1)\n",
    "model.costr.add(model.D[0] <= 1)"
   ]
  },
  {
   "cell_type": "code",
   "execution_count": null,
   "id": "046a4809",
   "metadata": {},
   "outputs": [],
   "source": [
    "solver = pyo.SolverFactory(\"ipopt\")\n",
    "out = solver.solve(model)\n",
    "print(out)"
   ]
  },
  {
   "cell_type": "code",
   "execution_count": null,
   "id": "7c9fa364",
   "metadata": {},
   "outputs": [],
   "source": [
    "model.C.extract_values()"
   ]
  },
  {
   "cell_type": "markdown",
   "id": "b01c2517",
   "metadata": {},
   "source": [
    "# Worst-Case for $M_{r+1, n}$"
   ]
  },
  {
   "cell_type": "code",
   "execution_count": null,
   "id": "aaeef640",
   "metadata": {},
   "outputs": [],
   "source": [
    "### Optimize the Plug-in Upper Bound"
   ]
  },
  {
   "cell_type": "code",
   "execution_count": null,
   "id": "11d9489f",
   "metadata": {},
   "outputs": [],
   "source": [
    "from scipy.special import binom\n",
    "\n",
    "J = 20\n",
    "pis = np.random.uniform(size=J)\n",
    "pis /= np.sum(pis)\n",
    "\n",
    "\n",
    "r = 1\n",
    "n = 5000\n",
    "\n",
    "a = binom(n, r+1) * (r / (n-1)) ** r * (1 - r / (n-1)) ** (n - r - 1)\n",
    "c = (r / (n-2)) ** (2 * r) * (1 - 2 * r / (n - 2)) ** (n - 2*r - 2)"
   ]
  },
  {
   "cell_type": "code",
   "execution_count": null,
   "id": "004bacdf",
   "metadata": {},
   "outputs": [],
   "source": [
    "def sp(a, b):\n",
    "    out = 0\n",
    "    for j in range(len(b)):\n",
    "        out += a[j] * b[j]\n",
    "    return out\n",
    "\n",
    "\n",
    "def ub(m):\n",
    "    pib = sp(m.beta, pis)\n",
    "\n",
    "    return (n / (r + 1))**2 * pib**2 - 2 * n / (r+1) * a * pib + a + c"
   ]
  },
  {
   "cell_type": "code",
   "execution_count": null,
   "id": "4703ccb0",
   "metadata": {},
   "outputs": [],
   "source": [
    "model = pyo.ConcreteModel()\n",
    "model.beta = pyo.Var(np.arange(J), domain=pyo.NonNegativeReals, initialize=0.2)\n",
    "\n",
    "model.obj = pyo.Objective(\n",
    "    rule=lambda m: ub(m), sense=pyo.minimize)\n",
    "\n",
    "model.costr = pyo.ConstraintList()\n",
    "\n",
    "for i in range(J):\n",
    "    model.costr.add(model.beta[i] <= 1)\n",
    "solver = pyo.SolverFactory(\"ipopt\")\n",
    "out = solver.solve(model)\n",
    "print(out)"
   ]
  },
  {
   "cell_type": "code",
   "execution_count": null,
   "id": "a165da7e",
   "metadata": {},
   "outputs": [],
   "source": [
    "plt.scatter(pis, model.beta.extract_values().values())"
   ]
  },
  {
   "cell_type": "code",
   "execution_count": null,
   "id": "e1dc8bb9",
   "metadata": {},
   "outputs": [],
   "source": [
    "model.beta.extract_values()"
   ]
  },
  {
   "cell_type": "markdown",
   "id": "fe9b9dee",
   "metadata": {},
   "source": [
    "# Minimax Estimation"
   ]
  },
  {
   "cell_type": "code",
   "execution_count": null,
   "id": "d1a3d57e",
   "metadata": {},
   "outputs": [],
   "source": [
    "def inner_opt(m):\n",
    "    return m.z[0]\n",
    "\n",
    "\n",
    "stupid_init = np.zeros(J)\n",
    "stupid_init[:2] = 0.5\n",
    "\n",
    "model = pyo.ConcreteModel()\n",
    "model.beta = pyo.Var(np.arange(J), domain=pyo.NonNegativeReals, initialize=stupid_init)\n",
    "model.pis = pyo.Var(np.arange(J), domain=pyo.NonNegativeReals, initialize=stupid_init)\n",
    "model.z = pyo.Var(np.arange(1), domain=pyo.Reals, initialize=np.ones(1) * 1e6)\n",
    "\n",
    "model.obj = pyo.Objective(rule=inner_opt)\n",
    "model.costr = pyo.ConstraintList()\n",
    "\n",
    "model.costr.add(pyo.summation(model.pis) == 1)\n",
    "\n",
    "# minimax trick\n",
    "model.costr.add(model.z[0] >= ub(model))\n",
    "    \n",
    "solver = pyo.SolverFactory(\"multistart\")\n",
    "out = solver.solve(model, suppress_unbounded_warning=True)\n",
    "print(out)"
   ]
  },
  {
   "cell_type": "code",
   "execution_count": null,
   "id": "e09d32d9",
   "metadata": {},
   "outputs": [],
   "source": [
    "model.pis.extract_values()"
   ]
  },
  {
   "cell_type": "code",
   "execution_count": null,
   "id": "3986c529",
   "metadata": {},
   "outputs": [],
   "source": [
    "model.beta.extract_values()"
   ]
  },
  {
   "cell_type": "code",
   "execution_count": 6,
   "id": "56ce2d80",
   "metadata": {},
   "outputs": [
    {
     "name": "stdout",
     "output_type": "stream",
     "text": [
      "300.0\n"
     ]
    }
   ],
   "source": [
    "r = 11\n",
    "n = 3000\n",
    "\n",
    "K = n / (r-1)\n",
    "print(K)"
   ]
  },
  {
   "cell_type": "code",
   "execution_count": null,
   "id": "3d979be4",
   "metadata": {},
   "outputs": [],
   "source": [
    "def f1(m):\n",
    "    return (r / (m-2)) ** (2 * r) * (1 - 2 * r / (m - 2)) ** (m - 2*r - 2)\n",
    "\n",
    "\n",
    "def f2(m):\n",
    "    return m / r * (m / r - 1) * (r / m) ** (2 * r + 2) * (1 - 2 * r / (m)) ** (m - 2*r - 2)"
   ]
  },
  {
   "cell_type": "code",
   "execution_count": null,
   "id": "f9300228",
   "metadata": {},
   "outputs": [],
   "source": [
    "n_grid = np.linspace(1000, 10000000, 1000)\n",
    "plt.plot(n_grid, np.log(np.abs(f1(n_grid) - f2(n_grid))))"
   ]
  }
 ],
 "metadata": {
  "kernelspec": {
   "display_name": "Python 3 (ipykernel)",
   "language": "python",
   "name": "python3"
  },
  "language_info": {
   "codemirror_mode": {
    "name": "ipython",
    "version": 3
   },
   "file_extension": ".py",
   "mimetype": "text/x-python",
   "name": "python",
   "nbconvert_exporter": "python",
   "pygments_lexer": "ipython3",
   "version": "3.10.10"
  }
 },
 "nbformat": 4,
 "nbformat_minor": 5
}
