{
 "cells": [
  {
   "cell_type": "code",
   "execution_count": null,
   "id": "23356167",
   "metadata": {},
   "outputs": [],
   "source": [
    "import pandas as pd\n",
    "import numpy as np\n",
    "import matplotlib.pyplot as plt\n"
   ]
  },
  {
   "cell_type": "code",
   "execution_count": null,
   "id": "395f834d",
   "metadata": {},
   "outputs": [],
   "source": [
    "df = pd.read_csv(\"../results/smooth_comparison.csv\")\n",
    "\n",
    "fig, axis = plt.subplots(nrows=1, ncols=4, figsize=(18, 4))\n",
    "thetas = [1, 10, 100, 500]\n",
    "alphas = [0.0, 0.2, 0.4, 0.6, 0.8]\n",
    "\n",
    "for i, r in enumerate(range(0, len(thetas) * len(alphas), len(alphas))):\n",
    "    vals = df.values[r:r+len(alphas), :]\n",
    "    for j in range(len(alphas)):\n",
    "        axis[i].plot(np.exp(vals[j, :]), label=r\"$\\alpha$: {0}\".format(alphas[j]))\n",
    "    axis[i].set_yscale(\"log\")\n",
    "    axis[i].set_title(r\"$\\theta$: {0}\".format(thetas[i]), fontsize=20)\n",
    "    axis[i].set_ylim(1e-5, 1)\n",
    "    \n",
    "for i in range(4):\n",
    "    axis[i].set_xlabel(r\"$r$\", fontsize=18)\n",
    "\n",
    "axis[2].legend(fontsize=18, ncol=len(alphas), loc=\"lower left\", bbox_to_anchor=(-1.75, -0.4))\n",
    "\n",
    "\n",
    "\n",
    "plt.savefig(\"../plots/smoothing_comparison.pdf\", bbox_inches=\"tight\")"
   ]
  },
  {
   "cell_type": "code",
   "execution_count": null,
   "id": "2769e08e",
   "metadata": {},
   "outputs": [],
   "source": [
    "vals.shape"
   ]
  },
  {
   "cell_type": "markdown",
   "id": "e65e5d96",
   "metadata": {},
   "source": [
    "# Frequency One Hash"
   ]
  },
  {
   "cell_type": "code",
   "execution_count": null,
   "id": "e6c0464e",
   "metadata": {},
   "outputs": [],
   "source": [
    "df = pd.read_csv(\"../results/frequency_simulation_results.csv\")\n",
    "df = df[df.Model.isin([\"DP\", \"NGG\"])]"
   ]
  },
  {
   "cell_type": "code",
   "execution_count": null,
   "id": "25ee34d5",
   "metadata": {},
   "outputs": [],
   "source": [
    "df"
   ]
  },
  {
   "cell_type": "code",
   "execution_count": null,
   "id": "f92f4ad5",
   "metadata": {},
   "outputs": [],
   "source": [
    "med_df = df[df.DataGen == \"py\"].groupby([\"DataGen\", \"Params\", \"Model\"]).median().reset_index()\n",
    "med_df[\"theta\"] = [x[0] for x in med_df.Params.apply(json.loads)]\n",
    "med_df[\"alpha\"] = [x[1] for x in med_df.Params.apply(json.loads)]\n",
    "med_df = med_df.drop([\"DataGen\", \"repnum\", \"Params\"], axis=1)\n",
    "columns = [\"theta\", \"alpha\", \"Model\", \"(0, 1]\", \"(1, 4]\", \"(4, 16]\", \"(16, 64]\", \"(64, 256]\", \"(256, Inf]\"]\n",
    "med_df = med_df[columns]\n",
    "print(med_df.to_latex(index=False, float_format=\"%.2f\"))"
   ]
  },
  {
   "cell_type": "code",
   "execution_count": null,
   "id": "e6a446a9",
   "metadata": {},
   "outputs": [],
   "source": [
    "for alpha in [0.0, 0.25, 0.5, 0.75]:\n",
    "    curr_df = df[df.DataGen == \"py\"]\n",
    "    \n",
    "    p_list = [\"[{0}, {1}]\".format(a, alpha) for a in [1.0, 10.0, 100.0, 1000.0]]\n",
    "    curr_df = curr_df[curr_df.Params.isin(p_list)]\n",
    "    curr_df = curr_df.groupby([\"Params\", \"Model\"]).median().reset_index()\n",
    "    curr_df[\"theta\"] = [x[0] for x in curr_df.Params.apply(json.loads)]\n",
    "\n",
    "    fig, axis = plt.subplots(nrows=1, ncols=5, figsize=(18, 3))\n",
    "\n",
    "    for model in [\"DP\", \"NGG\"]:\n",
    "        mdf = curr_df[curr_df[\"Model\"] == model]\n",
    "        for i in range(5):\n",
    "            axis[i].plot(mdf.theta, mdf[mdf.columns[i+2]], label=model)\n",
    "            axis[i].set_title(mdf.columns[i+2], fontsize=20)\n",
    "            axis[i].set_xscale(\"log\")\n",
    "            # axis[i].set_yscale(\"log\")\n",
    "            axis[i].set_ylim(1, 5000)\n",
    "\n",
    "    for i in range(4):\n",
    "        axis[i].set_xlabel(r\"$\\theta$\", fontsize=18)\n",
    "\n",
    "    axis[0].set_ylabel(\"MAE\", fontsize=18)\n",
    "   # plt.tight_layout(pad=0.1)\n",
    "    axis[2].legend(ncol=3, loc=\"lower left\", bbox_to_anchor=(-0.2, -0.55), fontsize=18)\n",
    "    plt.savefig(\"../plots/freq_py_alpha_{0}.pdf\".format(alpha), bbox_inches=\"tight\")"
   ]
  },
  {
   "cell_type": "code",
   "execution_count": null,
   "id": "1a34a81f",
   "metadata": {},
   "outputs": [],
   "source": [
    "curr_df = df[df.DataGen == \"zipf\"]\n",
    "curr_df = curr_df.groupby([\"Params\", \"Model\"]).median().reset_index()\n",
    "curr_df"
   ]
  },
  {
   "cell_type": "code",
   "execution_count": null,
   "id": "8601466d",
   "metadata": {},
   "outputs": [],
   "source": [
    "# curr_df = df[df.DataGen == \"zipf\"]\n",
    "# curr_df.Model[curr_df.Model == \"DP\"] = \"TMP\"\n",
    "# curr_df.Model[curr_df.Model == \"NGG\"] = \"DP\"\n",
    "# curr_df.Model[curr_df.Model == \"TMP\"] = \"NGG\"\n",
    "\n",
    "curr_df = pd.read_csv(\"../results/zipf_frequency_simulation_results.csv\")\n",
    "\n",
    "curr_df = curr_df.groupby([\"Params\", \"Model\"]).median().reset_index()\n",
    "# curr_df[\"Params\"] = curr_df[\"Params\"].apply(json.loads)\n",
    "\n",
    "fig, axis = plt.subplots(nrows=1, ncols=5, figsize=(18, 3))\n",
    "\n",
    "for model in [\"DP\", \"NGG\"]:\n",
    "    mdf = curr_df[curr_df[\"Model\"] == model]\n",
    "    for i in range(5):\n",
    "        axis[i].plot(mdf.Params, mdf[mdf.columns[i+2]], label=model)\n",
    "        axis[i].set_title(mdf.columns[i+2], fontsize=20)\n",
    "        axis[i].set_ylim(1, 1500)\n",
    "\n",
    "for i in range(5):\n",
    "    axis[i].set_xlabel(r\"$c$\", fontsize=18)\n",
    "    \n",
    "axis[0].set_ylabel(\"MAE\", fontsize=18)\n",
    "axis[2].legend(ncol=3, loc=\"lower left\", bbox_to_anchor=(-0.2, -0.5), fontsize=18)\n",
    "#plt.xscale(\"log\")\n",
    "\n",
    "plt.savefig(\"../plots/freq_zipf.pdf\".format(alpha), bbox_inches=\"tight\")"
   ]
  },
  {
   "cell_type": "code",
   "execution_count": null,
   "id": "24368083",
   "metadata": {},
   "outputs": [],
   "source": [
    "med_df."
   ]
  },
  {
   "cell_type": "markdown",
   "id": "ffd1c934",
   "metadata": {},
   "source": [
    "# Cardinality 1 Hash"
   ]
  },
  {
   "cell_type": "code",
   "execution_count": null,
   "id": "f676b716",
   "metadata": {},
   "outputs": [],
   "source": [
    "df = pd.read_csv(\"../results/card_plot_df.csv\")\n",
    "df"
   ]
  },
  {
   "cell_type": "code",
   "execution_count": null,
   "id": "412fd3b9",
   "metadata": {},
   "outputs": [],
   "source": [
    "df.TrueK.max()"
   ]
  },
  {
   "cell_type": "code",
   "execution_count": null,
   "id": "145086bf",
   "metadata": {},
   "outputs": [],
   "source": [
    "import json\n",
    "from mpl_toolkits.axes_grid1 import make_axes_locatable\n",
    "\n",
    "df = pd.read_csv(\"../results/card_plot_df.csv\")\n",
    "df[\"theta\"] = [x[0] for x in df.Params.apply(json.loads)]\n",
    "df[\"alpha\"] = [x[1] for x in df.Params.apply(json.loads)]\n",
    "\n",
    "# df.loc[df.isna()[\"NGG\"], \"NGG\"] = df[df.isna()[\"NGG\"]][\"DP\"]\n",
    "\n",
    "fig, axis = plt.subplots(nrows=3, ncols=4, figsize=(18, 14))\n",
    "ndata = [100, 1000, 10000, 100000]\n",
    "alphas = [0.0, 0.25, 0.5, 0.75]\n",
    "thetas = [10.0, 100.0, 1000.0]\n",
    "\n",
    "for i, t in enumerate(thetas):\n",
    "    for j, a in enumerate(alphas):\n",
    "        curr_df = df[(df.theta == t) & (df.alpha == a)]        \n",
    "        axis[i, j].plot(ndata, curr_df.TrueK, color=\"red\", lw=3, label=\"True\")\n",
    "        axis[i, j].plot(ndata, curr_df.DP, label=\"DP\")\n",
    "        axis[i, j].plot(ndata, curr_df.NGG, label=\"NGG\")\n",
    "        \n",
    "        if i == 0:\n",
    "            axis[i, j].set_ylim(-10, 3500)\n",
    "        elif i == 1:\n",
    "            axis[i, j].set_ylim(-10, 7000)\n",
    "        elif i == 2:\n",
    "            axis[i, j].set_ylim(-10, 12000)\n",
    " \n",
    "        axis[i, j].set_xscale(\"log\")\n",
    "        # axis[i, j].set_yscale(\"log\")\n",
    "        # axis[i, j].set_ylim(1.0, 40000)\n",
    "    \n",
    "        axis[i, j].set_title(\"PY({0:.0f}, {1:.2f})\".format(t, a), fontsize=20)\n",
    "\n",
    "for i in range(3):\n",
    "    axis[i, 0].set_ylabel(r\"$|\\hat K - K^{true}|$\", fontsize=18)\n",
    "    for j in range(4):\n",
    "        axis[i, j].set_xlabel(\"$n$\", fontsize=18)\n",
    "\n",
    "axis[2, 2].legend(loc=\"lower left\", ncol=4, bbox_to_anchor=(-1, -0.4), fontsize=18)\n",
    "plt.savefig(\"../plots/card.pdf\", bbox_inches=\"tight\")"
   ]
  },
  {
   "cell_type": "code",
   "execution_count": null,
   "id": "0888d9ce",
   "metadata": {},
   "outputs": [],
   "source": [
    "df = pd.read_csv(\"../results/card_simulation_results.csv\")\n",
    "df.head()"
   ]
  },
  {
   "cell_type": "code",
   "execution_count": null,
   "id": "e7990e0b",
   "metadata": {},
   "outputs": [],
   "source": [
    "df = df[df.Model.isin([\"DP\", \"NGG\"])]\n",
    "med_df = df[df.DataGen == \"py\"].groupby([\"DataGen\", \"Params\", \"Model\"]).median().reset_index()\n",
    "med_df[\"theta\"] = [x[0] for x in med_df.Params.apply(json.loads)]\n",
    "med_df[\"alpha\"] = [x[1] for x in med_df.Params.apply(json.loads)]\n",
    "med_df = med_df.drop([\"DataGen\", \"repnum\", \"Params\"], axis=1)\n",
    "columns = [\"theta\", \"alpha\", \"Model\", \"100\", \"1000\", \"10000\", \"100000\"]\n",
    "print(med_df[columns].to_latex(index=False, float_format=\"%.2f\"))"
   ]
  },
  {
   "cell_type": "code",
   "execution_count": null,
   "id": "cb952d1a",
   "metadata": {},
   "outputs": [],
   "source": [
    "df = pd.read_csv(\"../results/zipf_card_simulation_results.csv\")\n",
    "med_df = df[df.DataGen == \"zipf\"].groupby([\"DataGen\", \"Params\", \"Model\"]).median().reset_index()\n",
    "med_df"
   ]
  },
  {
   "cell_type": "code",
   "execution_count": null,
   "id": "28e42567",
   "metadata": {},
   "outputs": [],
   "source": [
    "df = pd.read_csv(\"../results/zipf_card_simulation_results.csv\")\n",
    "\n",
    "med_df = df[df.DataGen == \"zipf\"].groupby([\"DataGen\", \"Params\", \"Model\"]).median().reset_index()\n",
    "# med_df[\"c\"] = [x for x in med_df.Params.apply(json.loads)]\n",
    "# med_df.c = med_df.Params\n",
    "med_df = med_df.drop([\"DataGen\", \"repnum\"], axis=1)\n",
    "columns = [\"Params\", \"Model\", \"100\", \"1000\", \"10000\", \"100000\"]\n",
    "print(med_df[columns].to_latex(index=False, float_format=\"%.2f\"))"
   ]
  },
  {
   "cell_type": "markdown",
   "id": "541f5ff8",
   "metadata": {},
   "source": [
    "# Role of J"
   ]
  },
  {
   "cell_type": "code",
   "execution_count": null,
   "id": "860fd623",
   "metadata": {},
   "outputs": [],
   "source": [
    "df.head()"
   ]
  },
  {
   "cell_type": "code",
   "execution_count": null,
   "id": "2a8a1f8c",
   "metadata": {},
   "outputs": [],
   "source": [
    "df\n",
    "df.iloc[range(8, 16)]"
   ]
  },
  {
   "cell_type": "code",
   "execution_count": null,
   "id": "974ffec4",
   "metadata": {},
   "outputs": [],
   "source": [
    "df = pd.read_csv(\"../results/jeffect_freq_simulation_results.csv\")\n",
    "# med_df = df.groupby([\"Params\", \"Model\", \"J\"]).median().reset_index()\n",
    "med_df = df.iloc[range(8, 16)]\n",
    "med_df"
   ]
  },
  {
   "cell_type": "code",
   "execution_count": null,
   "id": "bb6e2d82",
   "metadata": {
    "scrolled": true
   },
   "outputs": [],
   "source": [
    "df = pd.read_csv(\"../results/jeffect_freq_simulation_results.csv\")\n",
    "# med_df = df.groupby([\"Params\", \"Model\", \"J\"]).median().reset_index()\n",
    "med_df = df.iloc[range(16, 32)]\n",
    "\n",
    "\n",
    "theta = 100\n",
    "alpha = 0.75\n",
    "params = \"[{0:.1f}, {1:.2f}]\".format(theta, alpha)\n",
    " \n",
    "fig, axis = plt.subplots(nrows=1, ncols=5, figsize=(18, 3))\n",
    "\n",
    "curr_df = med_df[med_df.Params == params]\n",
    "for model in [\"DP\", \"NGG\"]:\n",
    "    mdf = curr_df[curr_df[\"Model\"] == model]\n",
    "    for i in range(5):\n",
    "        axis[i].plot(mdf.J, mdf[mdf.columns[i]], label=model)\n",
    "        axis[i].set_title(mdf.columns[i], fontsize=20)\n",
    "        axis[i].set_ylim(10, 500)\n",
    "        # axis[i].set_yscale(\"log\")\n",
    "        axis[i].set_xscale(\"log\")\n",
    "\n",
    "for i in range(5):\n",
    "    axis[i].set_xlabel(r\"$J$\", fontsize=18)\n",
    "axis[0].set_ylabel(\"MAE\", fontsize=18)\n",
    "        \n",
    "axis[2].legend(ncol=3, loc=\"lower left\", bbox_to_anchor=(-0.35, -0.55), fontsize=18)\n",
    "plt.savefig(\"../plots/maes_jeffect_alpha_{0:.2f}.pdf\".format(alpha), bbox_inches=\"tight\")"
   ]
  },
  {
   "cell_type": "code",
   "execution_count": null,
   "id": "58703f5a",
   "metadata": {},
   "outputs": [],
   "source": [
    "df = pd.read_csv(\"../results/jeffect_card_simulation_results.csv\")\n",
    "med_df = df.groupby([\"Params\", \"Model\"]).median().reset_index()\n",
    "med_df"
   ]
  },
  {
   "cell_type": "code",
   "execution_count": null,
   "id": "3b3371ed",
   "metadata": {},
   "outputs": [],
   "source": [
    "curr_df"
   ]
  },
  {
   "cell_type": "code",
   "execution_count": null,
   "id": "e5ca3266",
   "metadata": {},
   "outputs": [],
   "source": [
    "df = pd.read_csv(\"../results/jeffect_card_simulation_results.csv\")\n",
    "med_df = df.groupby([\"Params\", \"Model\"]).median().reset_index()\n",
    "\n",
    "\n",
    "theta = 100\n",
    "alpha = 0.75\n",
    "params = \"[{0:.1f}, {1:.2f}]\".format(theta, alpha)\n",
    "\n",
    "Js = [10, 100, 1000, 10000]\n",
    " \n",
    "curr_df = med_df[med_df.Params == params]\n",
    "for model in [\"DP\", \"NGG\"]:\n",
    "    plt.plot(Js, curr_df[curr_df.Model == model].values[0, 2:], label=model)\n",
    "    \n",
    "plt.xscale(\"log\")\n",
    "plt.legend(fontsize=18)\n",
    "    \n",
    "        \n",
    "# axis[2].legend(ncol=3, loc=\"lower left\", bbox_to_anchor=(-0.35, -0.4), fontsize=18)\n",
    "plt.savefig(\"../plots/card_jeffect_alpha_{0:.2f}.pdf\".format(alpha), bbox_inches=\"tight\")"
   ]
  },
  {
   "cell_type": "markdown",
   "id": "8413668e",
   "metadata": {},
   "source": [
    "# Frequency Multiview"
   ]
  },
  {
   "cell_type": "code",
   "execution_count": null,
   "id": "680e7704",
   "metadata": {},
   "outputs": [],
   "source": [
    "df_min = pd.read_csv(\"../results/multiview_min_simulation_results.csv\")\n",
    "df_prod = pd.read_csv(\"../results/multiview_prod_simulation_results.csv\")\n",
    "df_cms = pd.read_csv(\"../results/multiview_cms_simulation_results.csv\")"
   ]
  },
  {
   "cell_type": "code",
   "execution_count": null,
   "id": "ec2e7933",
   "metadata": {},
   "outputs": [],
   "source": [
    "df_min[\"Rule\"] = \"MIN\"\n",
    "df_prod[\"Rule\"] = \"PoE\"\n",
    "df_cms[\"Rule\"] = \"CMS\""
   ]
  },
  {
   "cell_type": "code",
   "execution_count": null,
   "id": "4346e563",
   "metadata": {},
   "outputs": [],
   "source": [
    "df = pd.concat([df_min, df_prod, df_cms])\n",
    "df = df.groupby([\"DataGen\", \"Params\", \"J\", \"Rule\", \"Model\"]).median().reset_index()"
   ]
  },
  {
   "cell_type": "code",
   "execution_count": null,
   "id": "4f82267b",
   "metadata": {},
   "outputs": [],
   "source": [
    "df.head()"
   ]
  },
  {
   "cell_type": "code",
   "execution_count": null,
   "id": "b0ec78e6",
   "metadata": {},
   "outputs": [],
   "source": [
    "med_df = pd.concat([df_min, df_prod, df_cms])\n",
    "med_df = med_df.groupby([\"DataGen\", \"Params\", \"J\", \"Model\", \"Rule\"]).median().reset_index()\n",
    "med_df[\"theta\"] = [x[0] for x in med_df.Params.apply(json.loads)]\n",
    "med_df[\"alpha\"] = [x[1] for x in med_df.Params.apply(json.loads)]\n",
    "med_df = med_df.drop([\"DataGen\", \"repnum\", \"Params\"], axis=1)\n",
    "columns = [\"theta\", \"alpha\", \"J\", \"Model\", \"Rule\", \"(0, 1]\", \"(1, 4]\", \"(4, 16]\", \"(16, 64]\",\n",
    "           \"(64, 256]\", \"(256, Inf]\"]\n",
    "print(med_df[columns].to_latex(index=False, float_format=\"%.2f\"))"
   ]
  },
  {
   "cell_type": "code",
   "execution_count": null,
   "id": "dff65e52",
   "metadata": {},
   "outputs": [],
   "source": [
    "print(med_df[med_df.J == 1000][columns].to_latex(index=False, float_format=\"%.2f\"))"
   ]
  },
  {
   "cell_type": "code",
   "execution_count": null,
   "id": "3d6acb60",
   "metadata": {},
   "outputs": [],
   "source": [
    "paramslist = [\n",
    "    \"[100.0, 0.25]\",\n",
    "    \"[100.0, 0.75]\"\n",
    "]\n",
    "\n",
    "# params = \"[100.0, 0.25]\"\n",
    "\n",
    "for pnum, params in enumerate(paramslist):\n",
    "    fig, axis = plt.subplots(nrows=1, ncols=5, figsize=(18, 3))\n",
    "    \n",
    "    subdf = df[df.Params == params]\n",
    "    for i in range(5):\n",
    "        poe_df = subdf[subdf.Rule == \"PoE\"]\n",
    "        for mod, col in zip(models, colors):\n",
    "            currdf = poe_df[poe_df.Model == mod]\n",
    "            axis[i].plot(currdf.J, currdf[currdf.columns[i + 5]], color=col, label=\"PoE - {0}\".format(mod))\n",
    "\n",
    "        min_df = subdf[subdf.Rule == \"MIN\"]\n",
    "        for mod, col in zip(models, colors):\n",
    "            currdf = min_df[min_df.Model == mod]\n",
    "            axis[i].plot(currdf.J, currdf[currdf.columns[i + 5]], \"--\", color=col, label=\"MIN - {0}\".format(mod))\n",
    "\n",
    "        cms_df = subdf[subdf.Rule == \"CMS\"]\n",
    "        axis[i].plot(cms_df.J, cms_df[cms_df.columns[i + 5]], label=\"CMS\", color=\"purple\")\n",
    "\n",
    "        #axis[i].plot(min_df.J, min_df[min_df.columns[i+4]], label=\"MIN\")\n",
    "        #axis[i].set_xlim(0, 1100)\n",
    "        #axis[i].set_xticks(min_df.J)\n",
    "        axis[i].set_title(min_df.columns[i + 5], fontsize=20)\n",
    "        axis[i].set_xlabel(r\"$J$\", fontsize=18)\n",
    "        \n",
    "    axis[0].set_ylabel(\"MAE\", fontsize=18)\n",
    "\n",
    "    axis[2].legend(loc=\"lower center\", ncol=5, bbox_to_anchor=(0.5,-0.55), fontsize=18)\n",
    "    plt.savefig(\"../plots/multiview_{0}.pdf\".format(pnum + 1), bbox_inches=\"tight\")"
   ]
  },
  {
   "cell_type": "code",
   "execution_count": null,
   "id": "2cac6323",
   "metadata": {},
   "outputs": [],
   "source": [
    "df[\"theta\"] = [x[0] for x in df.Params.apply(json.loads)]\n",
    "df[\"alpha\"] = [x[1] for x in df.Params.apply(json.loads)]\n",
    "df = df.drop([\"DataGen\", \"repnum\", \"Params\"], axis=1)\n",
    "columns = [\"theta\", \"alpha\", \"J\", \"AGG\", \"(0, 1]\", \"(1, 4]\", \"(4, 16]\", \"(16, 64]\", \"(64, 256]\", \"(256, Inf]\"]\n",
    "df = df[columns]\n",
    "print(df.to_latex(index=False, float_format=\"%.2f\"))"
   ]
  },
  {
   "cell_type": "markdown",
   "id": "c829d8a8",
   "metadata": {},
   "source": [
    "# Cardinality Multi Hash"
   ]
  },
  {
   "cell_type": "code",
   "execution_count": null,
   "id": "8108e5e7",
   "metadata": {},
   "outputs": [],
   "source": [
    "df = pd.read_csv(\"../results/multiview_card_simulation_results.csv\")"
   ]
  },
  {
   "cell_type": "code",
   "execution_count": null,
   "id": "4f53111e",
   "metadata": {},
   "outputs": [],
   "source": [
    "df = df.groupby([\"ndata\", \"PY_THETA\", \"PY_ALPHA\", \"model\", \"mean_fn\"]).median().reset_index()"
   ]
  },
  {
   "cell_type": "code",
   "execution_count": null,
   "id": "a7ec81f5",
   "metadata": {},
   "outputs": [],
   "source": [
    "fig, axis = plt.subplots(nrows=1, ncols=4, figsize=(18, 3))\n",
    "\n",
    "plot_params = [(100, 0.25), (100, 0.75), (1000, 0.25), (1000, 0.75)]\n",
    "\n",
    "for i, (theta, alpha) in enumerate(plot_params):\n",
    "    pdf = df[(df.PY_THETA == theta) & (df.PY_ALPHA == alpha) & (df.ndata == 250000)]\n",
    "    for model, color in zip([\"DP\", \"NGG\"], [\"steelblue\", \"orange\"]):\n",
    "        for mean, ls in zip([\"avg\", \"geom\"], [\"--\", \":\"]):\n",
    "            curr_df = pdf[(pdf.model == model) & (pdf.mean_fn == mean)]\n",
    "            axis[i].plot([50, 100, 500, 1000], curr_df.values[0, 5:9].astype(float),\n",
    "                         color=color, linestyle=ls, label=\"{0}-{1}\".format(model, mean))\n",
    "            \n",
    "for i in range(4):\n",
    "    axis[i].set_title(\"PYP({0}, {1})\".format(*plot_params[i]), fontsize=20)\n",
    "    axis[i].set_xlabel(\"J\", fontsize=18)\n",
    "    \n",
    "axis[0].set_ylabel(r\"$|K_n - \\hat K|$\", fontsize=18)\n",
    "axis[2].legend(loc=\"lower center\", ncol=5, bbox_to_anchor=(-0.2,-0.55), fontsize=18)"
   ]
  },
  {
   "cell_type": "markdown",
   "id": "b24e17a5",
   "metadata": {},
   "source": [
    "# Bigram"
   ]
  },
  {
   "cell_type": "code",
   "execution_count": null,
   "id": "fcdeccc4",
   "metadata": {},
   "outputs": [],
   "source": [
    "df = pd.read_csv(\"../results/bigram_maes.csv\")\n",
    "\n",
    "fig, axis = plt.subplots(nrows=1, ncols=5, figsize=(18, 3))\n",
    "\n",
    "models = [\"DP\", \"NGG\"]\n",
    "\n",
    "colors = [\"steelblue\", \"orange\"]\n",
    "\n",
    "for i in range(5):\n",
    "    poe_df = df[df.Rule == \"PoE\"]\n",
    "    for mod, col in zip(models, colors):\n",
    "        currdf = poe_df[poe_df.Model == mod]\n",
    "        axis[i].plot(currdf.J, currdf[currdf.columns[i]], color=col, label=\"PoE - {0}\".format(mod))\n",
    "    \n",
    "    min_df = df[df.Rule == \"MIN\"]\n",
    "    for mod, col in zip(models, colors):\n",
    "        currdf = min_df[min_df.Model == mod]\n",
    "        axis[i].plot(currdf.J, currdf[currdf.columns[i]], \"--\", color=col, label=\"MIN - {0}\".format(mod))\n",
    "        \n",
    "    cms_df = df[df.Rule == \"CMS\"]\n",
    "    axis[i].plot(cms_df.J, cms_df[cms_df.columns[i]], label=\"CMS\", color=\"purple\")\n",
    "        \n",
    "    #axis[i].plot(min_df.J, min_df[min_df.columns[i+4]], label=\"MIN\")\n",
    "    #axis[i].set_xlim(0, 1100)\n",
    "    #axis[i].set_xticks(min_df.J)\n",
    "    axis[i].set_title(min_df.columns[i], fontsize=20)\n",
    "    axis[i].set_xlabel(r\"$J$\", fontsize=18)\n",
    "\n",
    "axis[0].set_ylabel(\"MAE\", fontsize=18)\n",
    "\n",
    "axis[2].legend(loc=\"lower center\", ncol=5, bbox_to_anchor=(0.5,-0.55), fontsize=18)\n",
    "plt.savefig(\"../plots/bigrams_freq.pdf\", bbox_inches=\"tight\")\n",
    "\n",
    "plt.show()"
   ]
  },
  {
   "cell_type": "code",
   "execution_count": null,
   "id": "9e01f53e",
   "metadata": {},
   "outputs": [],
   "source": [
    "df = pd.read_csv(\"../results/bigram_cardinality.csv\")\n",
    "plt.plot(df.ndata, df.true_k, linewidth=3, label=\"True\", color=\"red\")\n",
    "plt.plot(df.ndata, df.DP, label=\"DP\")\n",
    "plt.plot(df.ndata, df.NGG, label=\"NGG\")\n",
    "plt.xscale(\"log\")\n",
    "plt.xticks(df.ndata, df.ndata)\n",
    "plt.xlabel(\"n\", fontsize=18)\n",
    "plt.legend(loc=\"lower left\", ncol=3, fontsize=18, bbox_to_anchor=(0.0, -0.30))\n",
    "plt.title(\"Bigrams - True and Estimated $K_n$\", fontsize=20)\n",
    "plt.savefig(\"../plots/bigrams_kn.pdf\", bbox_inches=\"tight\")"
   ]
  },
  {
   "cell_type": "code",
   "execution_count": null,
   "id": "7b53481a",
   "metadata": {},
   "outputs": [],
   "source": [
    "df = pd.read_csv(\"../results/bigram_cardinality.csv\")\n",
    "df"
   ]
  },
  {
   "cell_type": "markdown",
   "id": "6e2b2a0f",
   "metadata": {},
   "source": [
    "# DNA"
   ]
  },
  {
   "cell_type": "code",
   "execution_count": null,
   "id": "41a7f6f2",
   "metadata": {},
   "outputs": [],
   "source": [
    "df = pd.read_csv(\"../results/dna_maes.csv\")\n",
    "df.head()"
   ]
  },
  {
   "cell_type": "code",
   "execution_count": null,
   "id": "bb09ca6c",
   "metadata": {},
   "outputs": [],
   "source": [
    "df = pd.read_csv(\"../results/dna_maes.csv\")\n",
    "\n",
    "fig, axis = plt.subplots(nrows=1, ncols=5, figsize=(18, 3))\n",
    "\n",
    "models = [\"DP\", \"NGG\"]\n",
    "\n",
    "colors = [\"steelblue\", \"orange\"]\n",
    "\n",
    "\n",
    "poe_df = df[df.Rule == \"PoE\"]\n",
    "for mod, col in zip(models, colors):\n",
    "    currdf = poe_df[poe_df.Model == mod]\n",
    "    for i in range(5):\n",
    "        axis[i].plot(currdf.J, currdf[currdf.columns[i]], color=col, label=\"PoE - {0}\".format(mod))\n",
    "        axis[i].set_title(currdf.columns[i], fontsize=20)\n",
    "\n",
    "min_df = df[df.Rule == \"MIN\"]\n",
    "for mod, col in zip(models, colors):\n",
    "    currdf = min_df[min_df.Model == mod]\n",
    "    for i in range(5):\n",
    "        axis[i].plot(currdf.J, currdf[currdf.columns[i]], \"--\", color=col, label=\"MIN - {0}\".format(mod))\n",
    "        \n",
    "# cms_df = df[df.Rule == \"CMS\"]\n",
    "# for i in range(5):\n",
    " #   axis[i].plot(cms_df.J, cms_df[cms_df.columns[i]], label=\"CMS\", color=\"purple\")\n",
    "        \n",
    "    #axis[i].plot(min_df.J, min_df[min_df.columns[i+4]], label=\"MIN\")\n",
    "    #axis[i].set_xlim(0, 1100)\n",
    "    #axis[i].set_xticks(min_df.J)\n",
    "    \n",
    "for i in range(5):\n",
    "    axis[i].set_xlabel(r\"$J$\", fontsize=18)\n",
    "    \n",
    "axis[0].set_ylabel(\"MAE\", fontsize=18)\n",
    "\n",
    "axis[2].legend(loc=\"lower center\", ncol=5, bbox_to_anchor=(0.5,-0.55), fontsize=18)\n",
    "plt.savefig(\"../plots/dna_freq.pdf\", bbox_inches=\"tight\")\n",
    "\n",
    "plt.show()"
   ]
  },
  {
   "cell_type": "markdown",
   "id": "895150af",
   "metadata": {},
   "source": [
    "cms > [200, 300, 1000, 5000, 10000] a seconda dei buckets"
   ]
  },
  {
   "cell_type": "code",
   "execution_count": null,
   "id": "95b9454b",
   "metadata": {},
   "outputs": [],
   "source": [
    "df = pd.read_csv(\"../results/dna_cardinality.csv\")\n",
    "plt.plot(df.ndata, df.true_k, linewidth=3, label=\"True\", color=\"red\")\n",
    "plt.plot(df.ndata, df.DP, label=\"DP\")\n",
    "plt.plot(df.ndata, df.NGG, label=\"NGG\")\n",
    "plt.xscale(\"log\")\n",
    "plt.xlabel(\"n\", fontsize=18)\n",
    "# plt.xticks(df.ndata, df.ndata)\n",
    "plt.legend(loc=\"lower left\", ncol=3, fontsize=18, bbox_to_anchor=(0.0, -0.30))\n",
    "plt.title(\"DNA - True and Estimated $K_n$\", fontsize=20)\n",
    "plt.savefig(\"../plots/dna_kn.pdf\", bbox_inches=\"tight\")"
   ]
  },
  {
   "cell_type": "code",
   "execution_count": null,
   "id": "4f843cb6",
   "metadata": {},
   "outputs": [],
   "source": []
  }
 ],
 "metadata": {
  "kernelspec": {
   "display_name": "Python [conda env:scipy-dev] *",
   "language": "python",
   "name": "conda-env-scipy-dev-py"
  },
  "language_info": {
   "codemirror_mode": {
    "name": "ipython",
    "version": 3
   },
   "file_extension": ".py",
   "mimetype": "text/x-python",
   "name": "python",
   "nbconvert_exporter": "python",
   "pygments_lexer": "ipython3",
   "version": "3.10.10"
  }
 },
 "nbformat": 4,
 "nbformat_minor": 5
}
